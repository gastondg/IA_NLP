{
 "cells": [
  {
   "cell_type": "code",
   "execution_count": 1,
   "metadata": {},
   "outputs": [],
   "source": [
    "import re\n",
    "import string\n",
    "\n",
    "class Processor:\n",
    "    \"\"\"\n",
    "    Una clase hecha para limpiar el texto que traen los tweets.\n",
    "    \n",
    "    El metodo process limpia el texto haciendo uso de los demas metodos\n",
    "    \"\"\"\n",
    "    \n",
    "    def __init__(self):\n",
    "        self.dirtyReps = re.compile(r'([^lL0])\\1{1,}')\n",
    "        self.dirtySpaces = re.compile(r'(\\.|,|:|;|!|\\?|\\[|\\]|\\(|\\))[A-Za-z0-9]+')\n",
    "        self.dirtyK = re.compile('[^o]k')\n",
    "        self.dirtyJaja = re.compile(r'[ja]{5,}')\n",
    "        self.dirtyJeje = re.compile(r'[je]{5,}')\n",
    "        self.uglySeparator = 'THIS-IS-A-SEPARATOR'\n",
    "        self.urlPattern=re.compile(r'(?i)\\b((?:https?://|www\\d{0,3}[.]|[a-z0-9.\\-]+[.][a-z]{2,4}/)(?:[^\\s()<>]+|\\(([^\\s()<>]+|(\\([^\\s()<>]+\\)))*\\))+(?:\\(([^\\s()<>]+|(\\([^\\s()<>]+\\)))*\\)|[^\\s`!()\\[\\]{};:\\'\".,<>?\\xab\\xbb\\u201c\\u201d\\u2018\\u2019]))')\n",
    "    \n",
    "    def replaceAccents(self,word):\n",
    "        \"\"\" Reemplaza las tildes \"\"\"\n",
    "        word = word.replace('í','i')\n",
    "        word = word.replace('ó','o')\n",
    "        word = word.replace('ò','o')\n",
    "        word = word.replace('ñ','n')\n",
    "        word = word.replace('é','e')\n",
    "        word = word.replace('è','e')\n",
    "        word = word.replace('á','a')\n",
    "        word = word.replace('à','a')\n",
    "        word = word.replace('ü','u')\n",
    "        word = word.replace('ú','u')\n",
    "        word = word.replace('ö','o')\n",
    "        word = word.replace('ë','e')\n",
    "        word = word.replace('ï','i')\n",
    "        return word\n",
    "\n",
    "    def processDetails(self,word):\n",
    "        \"\"\" \n",
    "        Clase 'comodin' para simplificar el procesamiento\n",
    "        \n",
    "        Por ejemplo: re -> muy, 100% -> muy, #hashtag -> hashtag\n",
    "        \n",
    "        Se puede mejorar haciendo un diccionario de reemplazo\n",
    "        word es toda la frase> word = \"esto es una 100% frase\" -> \"esto es una muy frase\"\n",
    "        \"\"\"\n",
    "        word = word.replace('#', '')\n",
    "        word = word.replace(' re ',' muy ')\n",
    "        word = word.replace(' 100% ', ' muy ')\n",
    "        word = word.replace('mercado libre', ''.join(['mercado','libre']))\n",
    "        word = word.replace('mercado pago', ''.join(['mercado','pago']))\n",
    "        word = word.replace(' x ',' por ')\n",
    "        word = word.replace(' q ', ' que ')\n",
    "        word = word.replace(' qu ', ' que ')\n",
    "        word = word.replace(' qeh ', ' que ')\n",
    "        word = word.replace(' qhe ', ' que ')\n",
    "        word = word.replace(' qe ', ' que ')\n",
    "        word = word.replace(' ke ', ' que ')\n",
    "        word = word.replace(' keh ', ' que ')\n",
    "        word = word.replace(' khe ', ' que ')\n",
    "        word = word.replace(' k ', ' que ')\n",
    "        word = word.replace('lll','ll')\n",
    "        word = word.replace('la puta madre','lpm')\n",
    "        word = word.replace('la puta que te pario','lpqtp')\n",
    "        word = word.replace('la concha de la lora','lcdll')\n",
    "        word = word.replace('hijo de puta', 'hdp')\n",
    "        \n",
    "        return word\n",
    "\n",
    "    def processJaja(self,word):\n",
    "        \"\"\"\n",
    "        jajajaj, jajja, jajaj, jejejaja, jejej, etc -> jaja\n",
    "        \"\"\"\n",
    "        while self.dirtyJaja.search(word)!=None:\n",
    "            word = word.replace(self.dirtyJaja.search(word).group(),'jaja')\n",
    "        while self.dirtyJeje.search(word)!=None:\n",
    "            word = word.replace(self.dirtyJeje.search(word).group(),'jaja')\n",
    "        return word    \n",
    "    \n",
    "    def processRep(self,word):\n",
    "        \"\"\"\n",
    "        Saca las repeticiones por ej: buenasss, bueeena, essss -> buenas, buena, es\n",
    "        No remueve la doble l\n",
    "        \"\"\"\n",
    "        while self.dirtyReps.search(word)!=None:\n",
    "            word = word.replace(self.dirtyReps.search(word).group(),\n",
    "                                self.dirtyReps.search(word).group()[0])\n",
    "        return word\n",
    "\n",
    "    def processSpaces(self,word):\n",
    "        \"\"\"\n",
    "        Remueve espacios de sobra, incluidos los de adelante de la sentencia y los del final\n",
    "        \"\"\"\n",
    "        while self.dirtySpaces.search(word)!=None:\n",
    "            word = word.replace(self.dirtySpaces.search(word).group()[0],\n",
    "                                self.dirtySpaces.search(word).group()[0]+' ')\n",
    "        word = word.lstrip().rstrip()\n",
    "        return word\n",
    "    \n",
    "    def processK(self,word):\n",
    "        \"\"\"\n",
    "        Remueve la k en palabras como kilombo -> quilombo\n",
    "        \"\"\"\n",
    "        while self.dirtyK.search(word)!=None:\n",
    "            word = word.replace(self.dirtyK.search(word).group(),\n",
    "                                self.dirtyK.search(word).group()[0]+'qu')\n",
    "        return word\n",
    "    \n",
    "    def processNumbers(self,word):\n",
    "        \"\"\"\n",
    "        Los numero normalmente no tienen peso en una frase, los remueve\n",
    "        Excepto por la frase \"esta todo de 10\" -> \"esta todo de diez\"\n",
    "        \"\"\"\n",
    "        word = word.replace('10',' diez')\n",
    "        word = re.sub(r'\\d+', '', word)  \n",
    "        return word\n",
    "    \n",
    "    def removePuntuation(self, word):\n",
    "        \"\"\"\n",
    "        Remueve todas las puntuaciones\n",
    "        \"\"\"\n",
    "        word = \"\".join([char for char in word if char not in string.punctuation]) \n",
    "        return word\n",
    "    \n",
    "    def removeLinks(self, word):\n",
    "        \"\"\"\n",
    "        Elimina los links y deja solo 'url' como constancia de un link eliminado\n",
    "        Puede servir para encontrar noticias neutras\n",
    "        \"\"\"\n",
    "        return self.urlPattern.sub(' url ', word)\n",
    "    \n",
    "    def removeUsers(self, word):\n",
    "        \"\"\"\n",
    "        Elimina los users para no sesgar la clasificacion\n",
    "        \"\"\"\n",
    "        return re.sub('@[^\\s]+','',word)\n",
    "    \n",
    "    def process(self,x, lematizar=False):\n",
    "        \"\"\"\n",
    "        Metodo que usa todos los otros metodos para limpiar el texto\n",
    "        \"\"\"\n",
    "        if len(x) > 0:\n",
    "            str(x).replace('\\r','').replace('\\n','')\n",
    "            x = self.removeLinks(x)\n",
    "            x = self.removeUsers(x)\n",
    "            x = self.replaceAccents(x.lower())  \n",
    "            x = self.removePuntuation(x)\n",
    "            x = self.processNumbers(x)\n",
    "            x = self.processRep(x)\n",
    "            x = self.processJaja(x)\n",
    "            x = self.processSpaces(x)\n",
    "            x = self.processDetails(x)\n",
    "            x = self.processK(x)\n",
    "            if lematizar:\n",
    "                # spacy lematizar\n",
    "                pass\n",
    "        return x"
   ]
  },
  {
   "cell_type": "code",
   "execution_count": 2,
   "metadata": {},
   "outputs": [
    {
     "data": {
      "text/html": [
       "<div>\n",
       "<style scoped>\n",
       "    .dataframe tbody tr th:only-of-type {\n",
       "        vertical-align: middle;\n",
       "    }\n",
       "\n",
       "    .dataframe tbody tr th {\n",
       "        vertical-align: top;\n",
       "    }\n",
       "\n",
       "    .dataframe thead th {\n",
       "        text-align: right;\n",
       "    }\n",
       "</style>\n",
       "<table border=\"1\" class=\"dataframe\">\n",
       "  <thead>\n",
       "    <tr style=\"text-align: right;\">\n",
       "      <th></th>\n",
       "      <th>text</th>\n",
       "      <th>label</th>\n",
       "    </tr>\n",
       "  </thead>\n",
       "  <tbody>\n",
       "    <tr>\n",
       "      <th>2371</th>\n",
       "      <td>Hola, soy Cinthia. Te respondí por DM, seguimo...</td>\n",
       "      <td>NEUTRAL</td>\n",
       "    </tr>\n",
       "    <tr>\n",
       "      <th>2270</th>\n",
       "      <td>Hola Gaston, estamos trabajando en la zona:htt...</td>\n",
       "      <td>NEUTRAL</td>\n",
       "    </tr>\n",
       "    <tr>\n",
       "      <th>2739</th>\n",
       "      <td>Easy POS SOFTWARE Facturacion ELECTRONICA AFIP...</td>\n",
       "      <td>NEUTRAL</td>\n",
       "    </tr>\n",
       "    <tr>\n",
       "      <th>1460</th>\n",
       "      <td>Ja ja y doble ja le hice el reclamo por el 080...</td>\n",
       "      <td>NEGATIVE</td>\n",
       "    </tr>\n",
       "    <tr>\n",
       "      <th>2623</th>\n",
       "      <td>Hola, pasame por DM tu DNI y contame a qué hac...</td>\n",
       "      <td>NEUTRAL</td>\n",
       "    </tr>\n",
       "    <tr>\n",
       "      <th>2785</th>\n",
       "      <td>Hola Jesica, gracias por comentarnos lo sucedi...</td>\n",
       "      <td>NEUTRAL</td>\n",
       "    </tr>\n",
       "    <tr>\n",
       "      <th>591</th>\n",
       "      <td>Que emoción!!!</td>\n",
       "      <td>POSITIVE</td>\n",
       "    </tr>\n",
       "    <tr>\n",
       "      <th>2559</th>\n",
       "      <td>Hola, Luis te respondí por DM para ayudarte. P...</td>\n",
       "      <td>NEUTRAL</td>\n",
       "    </tr>\n",
       "    <tr>\n",
       "      <th>1497</th>\n",
       "      <td>No es Aerolineas...es la mierda de la campora ...</td>\n",
       "      <td>NEGATIVE</td>\n",
       "    </tr>\n",
       "    <tr>\n",
       "      <th>1614</th>\n",
       "      <td>Sí que la cierre, se ahorra plata y problemas</td>\n",
       "      <td>NEGATIVE</td>\n",
       "    </tr>\n",
       "  </tbody>\n",
       "</table>\n",
       "</div>"
      ],
      "text/plain": [
       "                                                   text     label\n",
       "2371  Hola, soy Cinthia. Te respondí por DM, seguimo...   NEUTRAL\n",
       "2270  Hola Gaston, estamos trabajando en la zona:htt...   NEUTRAL\n",
       "2739  Easy POS SOFTWARE Facturacion ELECTRONICA AFIP...   NEUTRAL\n",
       "1460  Ja ja y doble ja le hice el reclamo por el 080...  NEGATIVE\n",
       "2623  Hola, pasame por DM tu DNI y contame a qué hac...   NEUTRAL\n",
       "2785  Hola Jesica, gracias por comentarnos lo sucedi...   NEUTRAL\n",
       "591                                      Que emoción!!!  POSITIVE\n",
       "2559  Hola, Luis te respondí por DM para ayudarte. P...   NEUTRAL\n",
       "1497  No es Aerolineas...es la mierda de la campora ...  NEGATIVE\n",
       "1614      Sí que la cierre, se ahorra plata y problemas  NEGATIVE"
      ]
     },
     "execution_count": 2,
     "metadata": {},
     "output_type": "execute_result"
    }
   ],
   "source": [
    "import pandas as pd\n",
    "\n",
    "dataset = pd.read_csv(r'/home/gastondg/Documentos/IA/datasets/posta/clasificado.csv',\n",
    "                      encoding='utf-8')\n",
    "dataset.sample(10)"
   ]
  },
  {
   "cell_type": "code",
   "execution_count": 3,
   "metadata": {},
   "outputs": [
    {
     "data": {
      "text/plain": [
       "'haber si esto funciona url estamos probando'"
      ]
     },
     "execution_count": 3,
     "metadata": {},
     "output_type": "execute_result"
    }
   ],
   "source": [
    "limpieza = Processor()\n",
    "limpieza.process(\"Haber si esto funciona www.github.com ESTAMOSSSS PROBando\")"
   ]
  },
  {
   "cell_type": "code",
   "execution_count": 4,
   "metadata": {},
   "outputs": [
    {
     "data": {
      "text/html": [
       "<div>\n",
       "<style scoped>\n",
       "    .dataframe tbody tr th:only-of-type {\n",
       "        vertical-align: middle;\n",
       "    }\n",
       "\n",
       "    .dataframe tbody tr th {\n",
       "        vertical-align: top;\n",
       "    }\n",
       "\n",
       "    .dataframe thead th {\n",
       "        text-align: right;\n",
       "    }\n",
       "</style>\n",
       "<table border=\"1\" class=\"dataframe\">\n",
       "  <thead>\n",
       "    <tr style=\"text-align: right;\">\n",
       "      <th></th>\n",
       "      <th>text</th>\n",
       "      <th>label</th>\n",
       "    </tr>\n",
       "  </thead>\n",
       "  <tbody>\n",
       "    <tr>\n",
       "      <th>0</th>\n",
       "      <td>cuando desde se ponen la diez url</td>\n",
       "      <td>POSITIVE</td>\n",
       "    </tr>\n",
       "    <tr>\n",
       "      <th>1</th>\n",
       "      <td>que alegria juan disfruta a lo grande aguardam...</td>\n",
       "      <td>POSITIVE</td>\n",
       "    </tr>\n",
       "    <tr>\n",
       "      <th>2</th>\n",
       "      <td>hola gaton te respondimos por dm continuamos p...</td>\n",
       "      <td>POSITIVE</td>\n",
       "    </tr>\n",
       "    <tr>\n",
       "      <th>3</th>\n",
       "      <td>buenas pudiste solucionarlo gracias</td>\n",
       "      <td>POSITIVE</td>\n",
       "    </tr>\n",
       "    <tr>\n",
       "      <th>4</th>\n",
       "      <td>estaria bueno que respondan</td>\n",
       "      <td>POSITIVE</td>\n",
       "    </tr>\n",
       "  </tbody>\n",
       "</table>\n",
       "</div>"
      ],
      "text/plain": [
       "                                                text     label\n",
       "0                  cuando desde se ponen la diez url  POSITIVE\n",
       "1  que alegria juan disfruta a lo grande aguardam...  POSITIVE\n",
       "2  hola gaton te respondimos por dm continuamos p...  POSITIVE\n",
       "3                buenas pudiste solucionarlo gracias  POSITIVE\n",
       "4                        estaria bueno que respondan  POSITIVE"
      ]
     },
     "execution_count": 4,
     "metadata": {},
     "output_type": "execute_result"
    }
   ],
   "source": [
    "\"\"\"\n",
    "Limpiamos los datos\n",
    "\"\"\"\n",
    "dataset_limpio = dataset.copy()\n",
    "dataset_limpio['text'] = dataset_limpio['text'].apply(limpieza.process)\n",
    "dataset_limpio.head()"
   ]
  },
  {
   "cell_type": "code",
   "execution_count": 5,
   "metadata": {},
   "outputs": [
    {
     "name": "stdout",
     "output_type": "stream",
     "text": [
      "Numero total de filas en el dataset: 3135\n",
      "Numero de filas en el set de entrenamiento: 2508\n",
      "Numero de filas en el set de testing: 627\n"
     ]
    }
   ],
   "source": [
    "\"\"\"\n",
    "Separamos datos en entrenamiento y pruebas\n",
    "\"\"\"\n",
    "from sklearn.model_selection import train_test_split\n",
    "\n",
    "x = dataset_limpio['text']\n",
    "y = dataset_limpio['label']\n",
    "X_train, X_test, y_train, y_test = train_test_split(x, y,test_size= 0.2, random_state=4)\n",
    "\n",
    "print('Numero total de filas en el dataset: {}'.format(dataset_limpio.shape[0]))\n",
    "print('Numero de filas en el set de entrenamiento: {}'.format(X_train.shape[0]))\n",
    "print('Numero de filas en el set de testing: {}'.format(X_test.shape[0]))"
   ]
  },
  {
   "cell_type": "code",
   "execution_count": 6,
   "metadata": {},
   "outputs": [],
   "source": [
    "\"\"\"\n",
    "Vectorizamos\n",
    "\"\"\"\n",
    "from sklearn.feature_extraction.text import TfidfVectorizer\n",
    "\n",
    "# Instanciamos el vectorizador\n",
    "vectorizer = TfidfVectorizer(ngram_range=(1, 5)# Tomamos frases de hasta 6 palabras\n",
    "                                 )\n",
    "\n",
    "# fit and transform on it the training features\n",
    "#word_vectorizer.fit(X_train)\n",
    "training_data = vectorizer.fit_transform(X_train)\n",
    "\n",
    "#transform the test features to sparse matrix\n",
    "testing_data = vectorizer.transform(X_test)\n"
   ]
  },
  {
   "cell_type": "code",
   "execution_count": 7,
   "metadata": {},
   "outputs": [
    {
     "data": {
      "text/plain": [
       "MultinomialNB(alpha=0.005, class_prior=None, fit_prior=True)"
      ]
     },
     "execution_count": 7,
     "metadata": {},
     "output_type": "execute_result"
    }
   ],
   "source": [
    "\"\"\"\n",
    "Clasificacion\n",
    "Corremos una regresion logistica en cada label separada\n",
    "\"\"\"\n",
    "from sklearn.naive_bayes import MultinomialNB\n",
    "\n",
    "naive_bayes = MultinomialNB(alpha=0.005)\n",
    "naive_bayes.fit(training_data, y_train)"
   ]
  },
  {
   "cell_type": "code",
   "execution_count": 8,
   "metadata": {},
   "outputs": [],
   "source": [
    "predictions = naive_bayes.predict(testing_data)"
   ]
  },
  {
   "cell_type": "code",
   "execution_count": 9,
   "metadata": {},
   "outputs": [
    {
     "name": "stdout",
     "output_type": "stream",
     "text": [
      "Accuracy score:  0.7001594896331739\n",
      "Precision score:  0.7104698686192111\n",
      "Recall score:  0.6955246913580247\n",
      "F1 score:  0.6956126060565357\n"
     ]
    }
   ],
   "source": [
    "\"\"\"\n",
    "Accuracy Tests\n",
    "Hacemos las pruebas de precision del modelo entrenado\n",
    "\"\"\"\n",
    "\n",
    "from sklearn.metrics import accuracy_score, precision_score, recall_score, f1_score\n",
    "\n",
    "print('Accuracy score: ', format(accuracy_score(y_test, predictions)))\n",
    "print('Precision score: ', format(precision_score(y_test, predictions,average='macro')))\n",
    "print('Recall score: ', format(recall_score(y_test, predictions,average='macro')))\n",
    "print('F1 score: ', format(f1_score(y_test, predictions,average='macro')))\n"
   ]
  },
  {
   "cell_type": "code",
   "execution_count": 145,
   "metadata": {},
   "outputs": [],
   "source": [
    "\"\"\"\n",
    "Lo guardamos en un pickle para utilizarlo sin volver a entrenarlo\n",
    "\"\"\"\n",
    "\n",
    "import pickle\n",
    "\n",
    "clasificador = 'clasificador_multinomial_v1.pkl'\n",
    "vectorizador = 'vectorizador_tfidf_v1.pkl'\n",
    "\n",
    "pickle.dump(naive_bayes, open( clasificador, \"wb\" ))\n",
    "pickle.dump(vectorizer, open(vectorizador, \"wb\" ))"
   ]
  },
  {
   "cell_type": "code",
   "execution_count": 147,
   "metadata": {},
   "outputs": [],
   "source": [
    "with open(clasificador, 'rb') as m1:\n",
    "    clasif = pickle.load(m1,encoding='latin1')\n",
    "    \n",
    "with open(vectorizador, 'rb') as m2:\n",
    "    vect = pickle.load(m2,encoding='latin1')"
   ]
  },
  {
   "cell_type": "code",
   "execution_count": 150,
   "metadata": {},
   "outputs": [
    {
     "name": "stdout",
     "output_type": "stream",
     "text": [
      "NEGATIVE\n"
     ]
    }
   ],
   "source": [
    "print(clasif.predict(vect.transform(['es una verga'])))"
   ]
  },
  {
   "cell_type": "code",
   "execution_count": 144,
   "metadata": {},
   "outputs": [
    {
     "name": "stdout",
     "output_type": "stream",
     "text": [
      "['NEGATIVE']\n",
      "['POSITIVE']\n",
      "['POSITIVE']\n",
      "['NEGATIVE']\n",
      "['POSITIVE']\n",
      "['NEGATIVE']\n",
      "['POSITIVE']\n"
     ]
    }
   ],
   "source": [
    "print(naive_bayes.predict(vectorizer.transform(['es una verga'])))\n",
    "print(naive_bayes.predict(vectorizer.transform(['sos un groso hermano'])))\n",
    "print(naive_bayes.predict(vectorizer.transform(['muy rico todo'])))\n",
    "print(naive_bayes.predict(vectorizer.transform(['son unos chorros de mierda'])))\n",
    "print(naive_bayes.predict(vectorizer.transform(['prefiero una rica torta'])))\n",
    "print(naive_bayes.predict(vectorizer.transform(['es todo culpa de ellos'])))\n",
    "print(naive_bayes.predict(vectorizer.transform(['me gusta jugar al tenis'])))"
   ]
  },
  {
   "cell_type": "code",
   "execution_count": null,
   "metadata": {},
   "outputs": [],
   "source": []
  }
 ],
 "metadata": {
  "kernelspec": {
   "display_name": "Python 3",
   "language": "python",
   "name": "python3"
  },
  "language_info": {
   "codemirror_mode": {
    "name": "ipython",
    "version": 3
   },
   "file_extension": ".py",
   "mimetype": "text/x-python",
   "name": "python",
   "nbconvert_exporter": "python",
   "pygments_lexer": "ipython3",
   "version": "3.6.8"
  }
 },
 "nbformat": 4,
 "nbformat_minor": 2
}
